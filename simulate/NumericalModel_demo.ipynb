{
 "cells": [
  {
   "cell_type": "code",
   "execution_count": null,
   "metadata": {},
   "outputs": [],
   "source": [
    "from shimmingtoolbox.simulate import *"
   ]
  },
  {
   "cell_type": "code",
   "execution_count": null,
   "metadata": {},
   "outputs": [],
   "source": [
    "b0_sim = NumericalModel(model=\"shepp-logan\")"
   ]
  },
  {
   "cell_type": "code",
   "execution_count": null,
   "metadata": {},
   "outputs": [],
   "source": [
    "# Generate a backgroung B0\n",
    "b0_field = 13 # (Hz)\n",
    "b0_sim.generate_deltaB0(\"linear\", [0.0, b0_field])"
   ]
  },
  {
   "cell_type": "code",
   "execution_count": null,
   "metadata": {},
   "outputs": [],
   "source": [
    "# Simulate the signal data\n",
    "FA = 15 # (degrees)\n",
    "TE = [0.003, 0.015] # (seconds)\n",
    "SNR = 50\n",
    "b0_sim.simulate_measurement(FA, TE, SNR)"
   ]
  },
  {
   "cell_type": "code",
   "execution_count": null,
   "metadata": {},
   "outputs": [],
   "source": [
    "# Save simulation as NIfTI file (JSON sidecar also exported with parameters)\n",
    "b0_sim.save('Phase', 'b0_mapping_data.nii', format='nifti')"
   ]
  }
 ],
 "metadata": {
  "kernelspec": {
   "display_name": "Python 3",
   "language": "python",
   "name": "python3"
  },
  "language_info": {
   "codemirror_mode": {
    "name": "ipython",
    "version": 3
   },
   "file_extension": ".py",
   "mimetype": "text/x-python",
   "name": "python",
   "nbconvert_exporter": "python",
   "pygments_lexer": "ipython3",
   "version": "3.7.6"
  }
 },
 "nbformat": 4,
 "nbformat_minor": 4
}
